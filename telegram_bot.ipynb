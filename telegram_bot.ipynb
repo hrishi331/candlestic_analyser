{
 "cells": [
  {
   "cell_type": "code",
   "execution_count": null,
   "id": "b22764a1",
   "metadata": {},
   "outputs": [
    {
     "name": "stdout",
     "output_type": "stream",
     "text": [
      "{'ok': False, 'error_code': 404, 'description': 'Not Found'}\n"
     ]
    }
   ],
   "source": [
    "import requests\n",
    "\n",
    "BOT_TOKEN = \"<your access token by BOTFATHER>\" # replace with your own\n",
    "\n",
    "# Get updates from bot (must have sent at least one message to it first)\n",
    "response = requests.get(f\"https://api.telegram.org/bot{BOT_TOKEN}/getUpdates\")\n",
    "print(response.json())\n"
   ]
  },
  {
   "cell_type": "code",
   "execution_count": 2,
   "id": "96b803de",
   "metadata": {},
   "outputs": [
    {
     "name": "stdout",
     "output_type": "stream",
     "text": [
      "Failed: {\"ok\":false,\"error_code\":404,\"description\":\"Not Found\"}\n"
     ]
    }
   ],
   "source": [
    "import requests\n",
    "\n",
    "BOT_TOKEN = \"<your access token by BOTFATHER>\"\n",
    "CHAT_ID = \"1163765818\"  # Replace with your chat ID\n",
    "\n",
    "message = \"📈 Nifty has crossed 20,000!\"\n",
    "\n",
    "url = f\"https://api.telegram.org/bot{BOT_TOKEN}/sendMessage\"\n",
    "\n",
    "payload = {\n",
    "    \"chat_id\": CHAT_ID,\n",
    "    \"text\": message\n",
    "}\n",
    "\n",
    "r = requests.post(url, data=payload)\n",
    "print(\"Message sent!\" if r.status_code == 200 else \"Failed:\", r.text)\n"
   ]
  }
 ],
 "metadata": {
  "kernelspec": {
   "display_name": "venv (3.12.3)",
   "language": "python",
   "name": "python3"
  },
  "language_info": {
   "codemirror_mode": {
    "name": "ipython",
    "version": 3
   },
   "file_extension": ".py",
   "mimetype": "text/x-python",
   "name": "python",
   "nbconvert_exporter": "python",
   "pygments_lexer": "ipython3",
   "version": "3.12.3"
  }
 },
 "nbformat": 4,
 "nbformat_minor": 5
}
